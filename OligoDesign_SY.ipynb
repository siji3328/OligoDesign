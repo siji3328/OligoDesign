{
  "nbformat": 4,
  "nbformat_minor": 0,
  "metadata": {
    "colab": {
      "provenance": [],
      "history_visible": true,
      "authorship_tag": "ABX9TyN1t1ppBP9IZoO0R7FJUhoh",
      "include_colab_link": true
    },
    "kernelspec": {
      "name": "python3",
      "display_name": "Python 3"
    },
    "language_info": {
      "name": "python"
    }
  },
  "cells": [
    {
      "cell_type": "markdown",
      "metadata": {
        "id": "view-in-github",
        "colab_type": "text"
      },
      "source": [
        "<a href=\"https://colab.research.google.com/github/siji3328/OligoDesign-/blob/master/OligoDesign_SY.ipynb\" target=\"_parent\"><img src=\"https://colab.research.google.com/assets/colab-badge.svg\" alt=\"Open In Colab\"/></a>"
      ]
    },
    {
      "cell_type": "code",
      "source": [
        "# 필요한 라이브러리 설치\n",
        "!pip install biopython\n",
        "\n",
        "from Bio.SeqUtils import MeltingTemp as mt\n",
        "from Bio.Seq import Seq\n",
        "\n",
        "# 주어진 최종 서열\n",
        "final_sequence = (\n",
        "    \"ATGAGCAAAGGTGAAGAACTGTTTACCGGCGTTGTGCCGATTCTGGTGGAACTGGATGGCGATGTGAACGGTCACAAATTCAGCGTGCGTGGTGAAGGTGAAGGCGATGCCACGATTGGCAAACTGACGCTGAAATTTATCTGCACCACCGGCAAACTGCCGGTGCCGTGGCCGACGCTGGTGACCACCCTGACCTATGGCGTTCAGTGTTTTAGTCGCTATCCGGATCACATGAAACGTCACGATTTCTTTAAATCTGCAATGCCGGAAGGCTATGTGCAGGAACGTACGATTAGCTTTAAAGATGATGGCAAATATAAAACGCGCGCCGTTGTGAAATTTGAAGGCGATACCCTGGTGAACCGCATTGAACTGAAAGGCACGGATTTTAAAGAAGATGGCAATATCCTGGGCCATAAACTGGAATACAACTTTAATAGCCATAATGTTTATATTACGGCGGATAAACAGAAAAATGGCATCAAAGCGAATTTTACCGTTCGCCATAACGTTGAAGATGGCAGTGTGCAGCTGGCAGATCATTATCAGCAGAATACCCCGATTGGTGATGGTCCGGTGCTGCTGCCGGATAATCATTATCTGAGCACGCAGACCGTTCTGTCTAAAGATCCGAACGAAAAACGGGACCACATGGTTCTGCACGAATATGTGAATGCGGCAGGTATTACG\"\n",
        ")\n",
        "\n",
        "# Tm 조건을 만족하는 올리고를 설계하는 함수\n",
        "def design_oligos(sequence, num_oligos=10, min_overlap_length=20, min_tm=50):\n",
        "    # 기본 길이를 기존 길이에서 +20bp로 설정\n",
        "    base_oligo_length = (len(sequence) // num_oligos) + 20\n",
        "    oligos = []\n",
        "    overlap_tms = []\n",
        "    overlaps = []\n",
        "\n",
        "    start_idx = 0\n",
        "    for i in range(num_oligos - 1):\n",
        "        # Initial oligo\n",
        "        oligo = sequence[start_idx:start_idx + base_oligo_length]\n",
        "\n",
        "        # Determine overlap region\n",
        "        overlap = sequence[start_idx + base_oligo_length - min_overlap_length:start_idx + base_oligo_length + 10]  # Check extra 10bp for Tm adjustment\n",
        "        for j in range(10):\n",
        "            if mt.Tm_NN(overlap[:min_overlap_length + j]) >= min_tm:\n",
        "                overlap = overlap[:min_overlap_length + j]\n",
        "                break\n",
        "\n",
        "        # Adjust current oligo to include the overlap\n",
        "        oligos.append(oligo)\n",
        "        overlap_tms.append(mt.Tm_NN(overlap))\n",
        "        overlaps.append(overlap)\n",
        "\n",
        "        # Update start index for next oligo\n",
        "        start_idx += len(oligo) - len(overlap)\n",
        "\n",
        "    # Last oligo takes the remaining sequence\n",
        "    oligos.append(sequence[start_idx:])\n",
        "\n",
        "    return oligos, overlap_tms, overlaps\n",
        "\n",
        "# 올리고 설계\n",
        "oligos, overlap_tms, overlaps = design_oligos(final_sequence)\n",
        "\n",
        "# 설계된 올리고를 출력합니다.\n",
        "for i, (oligo, tm, overlap) in enumerate(zip(oligos, overlap_tms, overlaps), 1):\n",
        "    print(f\"Oligo {i} (5' -> 3'): {oligo}\")\n",
        "    print(f\"Length: {len(oligo)} bp\")\n",
        "    print(f\"Overlap Sequence (5' -> 3'): {overlap}\")\n",
        "    print(f\"Overlap Length: {len(overlap)} bp\")\n",
        "    print(f\"Overlap Melting Temperature (Tm): {tm:.2f}°C\\n\")\n",
        "\n",
        "# 마지막 올리고 출력 (오버랩이 없기 때문에 Tm은 표시되지 않음)\n",
        "print(f\"Oligo {len(oligos)} (5' -> 3'): {oligos[-1]}\")\n",
        "print(f\"Length: {len(oligos[-1])} bp\")\n"
      ],
      "metadata": {
        "colab": {
          "base_uri": "https://localhost:8080/"
        },
        "id": "ukkScfu03drD",
        "outputId": "56f12ca2-42b3-4692-9f43-7c24ddef001a"
      },
      "execution_count": null,
      "outputs": [
        {
          "output_type": "stream",
          "name": "stdout",
          "text": [
            "Requirement already satisfied: biopython in /usr/local/lib/python3.10/dist-packages (1.84)\n",
            "Requirement already satisfied: numpy in /usr/local/lib/python3.10/dist-packages (from biopython) (1.26.4)\n",
            "Oligo 1 (5' -> 3'): ATGAGCAAAGGTGAAGAACTGTTTACCGGCGTTGTGCCGATTCTGGTGGAACTGGATGGCGATGTGAACGGTCACAAATTCAGCGTGCG\n",
            "Length: 89 bp\n",
            "Overlap Sequence (5' -> 3'): GGTCACAAATTCAGCGTGCG\n",
            "Overlap Length: 20 bp\n",
            "Overlap Melting Temperature (Tm): 55.14°C\n",
            "\n",
            "Oligo 2 (5' -> 3'): GGTCACAAATTCAGCGTGCGTGGTGAAGGTGAAGGCGATGCCACGATTGGCAAACTGACGCTGAAATTTATCTGCACCACCGGCAAACT\n",
            "Length: 89 bp\n",
            "Overlap Sequence (5' -> 3'): ATCTGCACCACCGGCAAACT\n",
            "Overlap Length: 20 bp\n",
            "Overlap Melting Temperature (Tm): 56.79°C\n",
            "\n",
            "Oligo 3 (5' -> 3'): ATCTGCACCACCGGCAAACTGCCGGTGCCGTGGCCGACGCTGGTGACCACCCTGACCTATGGCGTTCAGTGTTTTAGTCGCTATCCGGA\n",
            "Length: 89 bp\n",
            "Overlap Sequence (5' -> 3'): TGTTTTAGTCGCTATCCGGA\n",
            "Overlap Length: 20 bp\n",
            "Overlap Melting Temperature (Tm): 50.60°C\n",
            "\n",
            "Oligo 4 (5' -> 3'): TGTTTTAGTCGCTATCCGGATCACATGAAACGTCACGATTTCTTTAAATCTGCAATGCCGGAAGGCTATGTGCAGGAACGTACGATTAG\n",
            "Length: 89 bp\n",
            "Overlap Sequence (5' -> 3'): GTGCAGGAACGTACGATTAG\n",
            "Overlap Length: 20 bp\n",
            "Overlap Melting Temperature (Tm): 50.80°C\n",
            "\n",
            "Oligo 5 (5' -> 3'): GTGCAGGAACGTACGATTAGCTTTAAAGATGATGGCAAATATAAAACGCGCGCCGTTGTGAAATTTGAAGGCGATACCCTGGTGAACCG\n",
            "Length: 89 bp\n",
            "Overlap Sequence (5' -> 3'): GGCGATACCCTGGTGAACCG\n",
            "Overlap Length: 20 bp\n",
            "Overlap Melting Temperature (Tm): 57.14°C\n",
            "\n",
            "Oligo 6 (5' -> 3'): GGCGATACCCTGGTGAACCGCATTGAACTGAAAGGCACGGATTTTAAAGAAGATGGCAATATCCTGGGCCATAAACTGGAATACAACTT\n",
            "Length: 89 bp\n",
            "Overlap Sequence (5' -> 3'): CATAAACTGGAATACAACTTTAATAGCC\n",
            "Overlap Length: 28 bp\n",
            "Overlap Melting Temperature (Tm): 51.46°C\n",
            "\n",
            "Oligo 7 (5' -> 3'): TCCTGGGCCATAAACTGGAATACAACTTTAATAGCCATAATGTTTATATTACGGCGGATAAACAGAAAAATGGCATCAAAGCGAATTTT\n",
            "Length: 89 bp\n",
            "Overlap Sequence (5' -> 3'): ATGGCATCAAAGCGAATTTTAC\n",
            "Overlap Length: 22 bp\n",
            "Overlap Melting Temperature (Tm): 50.54°C\n",
            "\n",
            "Oligo 8 (5' -> 3'): AAATGGCATCAAAGCGAATTTTACCGTTCGCCATAACGTTGAAGATGGCAGTGTGCAGCTGGCAGATCATTATCAGCAGAATACCCCGA\n",
            "Length: 89 bp\n",
            "Overlap Sequence (5' -> 3'): TTATCAGCAGAATACCCCGAT\n",
            "Overlap Length: 21 bp\n",
            "Overlap Melting Temperature (Tm): 50.37°C\n",
            "\n",
            "Oligo 9 (5' -> 3'): ATTATCAGCAGAATACCCCGATTGGTGATGGTCCGGTGCTGCTGCCGGATAATCATTATCTGAGCACGCAGACCGTTCTGTCTAAAGAT\n",
            "Length: 89 bp\n",
            "Overlap Sequence (5' -> 3'): AGACCGTTCTGTCTAAAGATCC\n",
            "Overlap Length: 22 bp\n",
            "Overlap Melting Temperature (Tm): 51.43°C\n",
            "\n",
            "Oligo 10 (5' -> 3'): GCAGACCGTTCTGTCTAAAGATCCGAACGAAAAACGGGACCACATGGTTCTGCACGAATATGTGAATGCGGCAGGTATTACG\n",
            "Length: 82 bp\n"
          ]
        }
      ]
    }
  ]
}