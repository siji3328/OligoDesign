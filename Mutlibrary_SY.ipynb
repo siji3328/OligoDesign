{
  "nbformat": 4,
  "nbformat_minor": 0,
  "metadata": {
    "colab": {
      "provenance": [],
      "authorship_tag": "ABX9TyNwtTOgTS8OWyzB8cotp01X",
      "include_colab_link": true
    },
    "kernelspec": {
      "name": "python3",
      "display_name": "Python 3"
    },
    "language_info": {
      "name": "python"
    }
  },
  "cells": [
    {
      "cell_type": "markdown",
      "metadata": {
        "id": "view-in-github",
        "colab_type": "text"
      },
      "source": [
        "<a href=\"https://colab.research.google.com/github/siji3328/OligoDesign/blob/master/Mutlibrary_SY.ipynb\" target=\"_parent\"><img src=\"https://colab.research.google.com/assets/colab-badge.svg\" alt=\"Open In Colab\"/></a>"
      ]
    },
    {
      "cell_type": "code",
      "source": [],
      "metadata": {
        "id": "bJG37IjRYu2y"
      },
      "execution_count": null,
      "outputs": []
    },
    {
      "cell_type": "code",
      "source": [
        "# 1단계: IUPAC 축약형 코드로 변환하는 함수 정의\n",
        "def get_iupac_codon(codon, amino_acid):\n",
        "    if amino_acid == \"L\":\n",
        "        return \"CTN\" if codon.startswith(\"CT\") else \"TTR\"\n",
        "    elif amino_acid == \"S\":\n",
        "        return \"TCN\" if codon.startswith(\"TC\") else \"AGY\"\n",
        "    elif amino_acid == \"R\":\n",
        "        return \"CGN\" if codon.startswith(\"CG\") else \"AGR\"\n",
        "    elif amino_acid == \"*\":  # Stop codon 처리\n",
        "        return \"TAR\" if codon.startswith(\"TA\") else \"TGA\"\n",
        "    else:\n",
        "        return iupac_codon_table.get(amino_acid, codon)\n",
        "\n",
        "# IUPAC 축약형 코돈 테이블 설정\n",
        "iupac_codon_table = {\n",
        "    \"F\": \"TTY\",\n",
        "    \"L\": \"CTN\",  # 기본값 (CT로 시작)\n",
        "    \"I\": \"ATH\",\n",
        "    \"M\": \"ATG\",\n",
        "    \"V\": \"GTN\",\n",
        "    \"S\": \"TCN\",  # 기본값 (TC로 시작)\n",
        "    \"P\": \"CCN\",\n",
        "    \"T\": \"ACN\",\n",
        "    \"A\": \"GCN\",\n",
        "    \"Y\": \"TAY\",\n",
        "    \"H\": \"CAY\",\n",
        "    \"Q\": \"CAR\",\n",
        "    \"N\": \"AAY\",\n",
        "    \"K\": \"AAR\",\n",
        "    \"D\": \"GAY\",\n",
        "    \"E\": \"GAR\",\n",
        "    \"C\": \"TGY\",\n",
        "    \"W\": \"TGG\",\n",
        "    \"R\": \"CGN\",  # 기본값 (CG로 시작)\n",
        "    \"G\": \"GGN\",\n",
        "    \"*\": \"TAR\",  # 기본 Stop codon 설정\n",
        "}\n",
        "\n",
        "# 주어진 DNA 서열과 아미노산 서열\n",
        "dna_sequence = (\n",
        "    \"ATGAGCAAAGGTGAAGAACTGTTTACCGGCGTTGTGCCGATTCTGGTGGAACTGGATGGCGATGTGAACGGTCACAAATTCAGCGTGCGTGGTGAAGGTGAAGGCGATGCCACGATTGGCAAACTGACGCTGAAATTTATCTGCACCACCGGCAAACTGCCGGTGCCGTGGCCGACGCTGGTGACCACCCTGACCTATGGCGTTCAGTGTTTTAGTCGCTATCCGGATCACATGAAACGTCACGATTTCTTTAAATCTGCAATGCCGGAAGGCTATGTGCAGGAACGTACGATTAGCTTTAAAGATGATGGCAAATATAAAACGCGCGCCGTTGTGAAATTTGAAGGCGATACCCTGGTGAACCGCATTGAACTGAAAGGCACGGATTTTAAAGAAGATGGCAATATCCTGGGCCATAAACTGGAATACAACTTTAATAGCCATAATGTTTATATTACGGCGGATAAACAGAAAAATGGCATCAAAGCGAATTTTACCGTTCGCCATAACGTTGAAGATGGCAGTGTGCAGCTGGCAGATCATTATCAGCAGAATACCCCGATTGGTGATGGTCCGGTGCTGCTGCCGGATAATCATTATCTGAGCACGCAGACCGTTCTGTCTAAAGATCCGAACGAAAAACGGGACCACATGGTTCTGCACGAATATGTGAATGCGGCAGGTATTACGTAA\"\n",
        ")\n",
        "amino_acid_sequence = (\n",
        "    \"MSKGEELFTGVVPILVELDGDVNGHKFSVRGEGEGDATIGKLTLKFICTTGKLPVPWPTLVTTLTYGVQCFSRYPDHMKRHDFFKSAMPEGYVQERTISFKDDGKYKTRAVVKFEGDTLVNRIELKGTDFKEDGNILGHKLEYNFNSHNVYITADKQKNGIKANFTVRHNVEDGSVQLADHYQQNTPIGDGPVLLPDNHYLSTQTVLSKDPNEKRDHMVLHEYVNAAGIT*\"\n",
        ")\n",
        "\n",
        "# 2단계: DNA 서열을 기반으로 IUPAC 축약형 코돈 선택\n",
        "iupac_sequence = \"\"\n",
        "for i in range(0, len(dna_sequence), 3):\n",
        "    dna_codon = dna_sequence[i:i+3]\n",
        "    amino_acid = amino_acid_sequence[i//3]\n",
        "    iupac_codon = get_iupac_codon(dna_codon, amino_acid)\n",
        "    iupac_sequence += iupac_codon\n",
        "\n",
        "# 3단계: 결과 출력 (한 줄로 이어서 출력)\n",
        "print(\"IUPAC 축약형 서열:\", iupac_sequence)\n",
        "print(\"DNA 서열 길이:\", len(dna_sequence))\n"
      ],
      "metadata": {
        "colab": {
          "base_uri": "https://localhost:8080/",
          "height": 0
        },
        "id": "W_uLlLXab46r",
        "outputId": "a97b85e6-258b-4cb7-bd0b-37c203b01477"
      },
      "execution_count": 18,
      "outputs": [
        {
          "output_type": "stream",
          "name": "stdout",
          "text": [
            "IUPAC 축약형 서열: ATGAGYAARGGNGARGARCTNTTYACNGGNGTNGTNCCNATHCTNGTNGARCTNGAYGGNGAYGTNAAYGGNCAYAARTTYAGYGTNCGNGGNGARGGNGARGGNGAYGCNACNATHGGNAARCTNACNCTNAARTTYATHTGYACNACNGGNAARCTNCCNGTNCCNTGGCCNACNCTNGTNACNACNCTNACNTAYGGNGTNCARTGYTTYAGYCGNTAYCCNGAYCAYATGAARCGNCAYGAYTTYTTYAARTCNGCNATGCCNGARGGNTAYGTNCARGARCGNACNATHAGYTTYAARGAYGAYGGNAARTAYAARACNCGNGCNGTNGTNAARTTYGARGGNGAYACNCTNGTNAAYCGNATHGARCTNAARGGNACNGAYTTYAARGARGAYGGNAAYATHCTNGGNCAYAARCTNGARTAYAAYTTYAAYAGYCAYAAYGTNTAYATHACNGCNGAYAARCARAARAAYGGNATHAARGCNAAYTTYACNGTNCGNCAYAAYGTNGARGAYGGNAGYGTNCARCTNGCNGAYCAYTAYCARCARAAYACNCCNATHGGNGAYGGNCCNGTNCTNCTNCCNGAYAAYCAYTAYCTNAGYACNCARACNGTNCTNTCNAARGAYCCNAAYGARAARCGNGAYCAYATGGTNCTNCAYGARTAYGTNAAYGCNGCNGGNATHACNTAR\n",
            "DNA 서열 길이: 693\n"
          ]
        }
      ]
    },
    {
      "cell_type": "code",
      "source": [
        "from collections import Counter\n",
        "\n",
        "# IUPAC 축약형 코드로 변환하는 함수 정의\n",
        "def get_iupac_codon(codon, amino_acid):\n",
        "    if amino_acid == \"L\":\n",
        "        return \"CTN\" if codon.startswith(\"CT\") else \"TTR\"\n",
        "    elif amino_acid == \"S\":\n",
        "        return \"TCN\" if codon.startswith(\"TC\") else \"AGY\"\n",
        "    elif amino_acid == \"R\":\n",
        "        return \"CGN\" if codon.startswith(\"CG\") else \"AGR\"\n",
        "    elif amino_acid == \"*\":  # Stop codon 처리\n",
        "        return \"TAR\" if codon.startswith(\"TA\") else \"TGA\"\n",
        "    else:\n",
        "        return iupac_codon_table.get(amino_acid, codon)\n",
        "\n",
        "# IUPAC 축약형 코돈 테이블 설정\n",
        "iupac_codon_table = {\n",
        "    \"F\": \"TTY\",\n",
        "    \"L\": \"CTN\",  # 기본값 (CT로 시작)\n",
        "    \"I\": \"ATH\",\n",
        "    \"M\": \"ATG\",\n",
        "    \"V\": \"GTN\",\n",
        "    \"S\": \"TCN\",  # 기본값 (TC로 시작)\n",
        "    \"P\": \"CCN\",\n",
        "    \"T\": \"ACN\",\n",
        "    \"A\": \"GCN\",\n",
        "    \"Y\": \"TAY\",\n",
        "    \"H\": \"CAY\",\n",
        "    \"Q\": \"CAR\",\n",
        "    \"N\": \"AAY\",\n",
        "    \"K\": \"AAR\",\n",
        "    \"D\": \"GAY\",\n",
        "    \"E\": \"GAR\",\n",
        "    \"C\": \"TGY\",\n",
        "    \"W\": \"TGG\",\n",
        "    \"R\": \"CGN\",  # 기본값 (CG로 시작)\n",
        "    \"G\": \"GGN\",\n",
        "    \"*\": \"TAR\",  # 기본 Stop codon 설정\n",
        "}\n",
        "\n",
        "# 주어진 DNA 서열과 아미노산 서열\n",
        "dna_sequence = (\n",
        "    \"ATGAGCAAAGGTGAAGAACTGTTTACCGGCGTTGTGCCGATTCTGGTGGAACTGGATGGCGATGTGAACGGTCACAAATTCAGCGTGCGTGGTGAAGGTGAAGGCGATGCCACGATTGGCAAACTGACGCTGAAATTTATCTGCACCACCGGCAAACTGCCGGTGCCGTGGCCGACGCTGGTGACCACCCTGACCTATGGCGTTCAGTGTTTTAGTCGCTATCCGGATCACATGAAACGTCACGATTTCTTTAAATCTGCAATGCCGGAAGGCTATGTGCAGGAACGTACGATTAGCTTTAAAGATGATGGCAAATATAAAACGCGCGCCGTTGTGAAATTTGAAGGCGATACCCTGGTGAACCGCATTGAACTGAAAGGCACGGATTTTAAAGAAGATGGCAATATCCTGGGCCATAAACTGGAATACAACTTTAATAGCCATAATGTTTATATTACGGCGGATAAACAGAAAAATGGCATCAAAGCGAATTTTACCGTTCGCCATAACGTTGAAGATGGCAGTGTGCAGCTGGCAGATCATTATCAGCAGAATACCCCGATTGGTGATGGTCCGGTGCTGCTGCCGGATAATCATTATCTGAGCACGCAGACCGTTCTGTCTAAAGATCCGAACGAAAAACGGGACCACATGGTTCTGCACGAATATGTGAATGCGGCAGGTATTACGTAA\"\n",
        ")\n",
        "amino_acid_sequence = (\n",
        "    \"MSKGEELFTGVVPILVELDGDVNGHKFSVRGEGEGDATIGKLTLKFICTTGKLPVPWPTLVTTLTYGVQCFSRYPDHMKRHDFFKSAMPEGYVQERTISFKDDGKYKTRAVVKFEGDTLVNRIELKGTDFKEDGNILGHKLEYNFNSHNVYITADKQKNGIKANFTVRHNVEDGSVQLADHYQQNTPIGDGPVLLPDNHYLSTQTVLSKDPNEKRDHMVLHEYVNAAGIT*\"\n",
        ")\n",
        "\n",
        "# DNA 서열을 기반으로 IUPAC 축약형 코돈 선택\n",
        "iupac_sequence = \"\"\n",
        "for i in range(0, len(dna_sequence), 3):\n",
        "    dna_codon = dna_sequence[i:i+3]\n",
        "    amino_acid = amino_acid_sequence[i//3]\n",
        "    iupac_codon = get_iupac_codon(dna_codon, amino_acid)\n",
        "    iupac_sequence += iupac_codon\n",
        "\n",
        "# IUPAC 코드의 N, R, Y, M, K, S, W, H, B, V, D 개수 계산\n",
        "iupac_codes = \"NRYMKSWHBVD\"\n",
        "counter = Counter(char for char in iupac_sequence if char in iupac_codes)\n",
        "\n",
        "# 결과 출력\n",
        "print(\"IUPAC 축약형 서열:\", iupac_sequence)\n",
        "print(\"DNA 서열 길이:\", len(dna_sequence))\n",
        "print(\"\\nIUPAC 코드 개수:\")\n",
        "for code in iupac_codes:\n",
        "    print(f\"{code}: {counter[code]}\")\n"
      ],
      "metadata": {
        "colab": {
          "base_uri": "https://localhost:8080/",
          "height": 0
        },
        "id": "r0Q0lHnYg9Z5",
        "outputId": "ca87f4d1-2e27-43e9-b478-765aa3c42fce"
      },
      "execution_count": 19,
      "outputs": [
        {
          "output_type": "stream",
          "name": "stdout",
          "text": [
            "IUPAC 축약형 서열: ATGAGYAARGGNGARGARCTNTTYACNGGNGTNGTNCCNATHCTNGTNGARCTNGAYGGNGAYGTNAAYGGNCAYAARTTYAGYGTNCGNGGNGARGGNGARGGNGAYGCNACNATHGGNAARCTNACNCTNAARTTYATHTGYACNACNGGNAARCTNCCNGTNCCNTGGCCNACNCTNGTNACNACNCTNACNTAYGGNGTNCARTGYTTYAGYCGNTAYCCNGAYCAYATGAARCGNCAYGAYTTYTTYAARTCNGCNATGCCNGARGGNTAYGTNCARGARCGNACNATHAGYTTYAARGAYGAYGGNAARTAYAARACNCGNGCNGTNGTNAARTTYGARGGNGAYACNCTNGTNAAYCGNATHGARCTNAARGGNACNGAYTTYAARGARGAYGGNAAYATHCTNGGNCAYAARCTNGARTAYAAYTTYAAYAGYCAYAAYGTNTAYATHACNGCNGAYAARCARAARAAYGGNATHAARGCNAAYTTYACNGTNCGNCAYAAYGTNGARGAYGGNAGYGTNCARCTNGCNGAYCAYTAYCARCARAAYACNCCNATHGGNGAYGGNCCNGTNCTNCTNCCNGAYAAYCAYTAYCTNAGYACNCARACNGTNCTNTCNAARGAYCCNAAYGARAARCGNGAYCAYATGGTNCTNCAYGARTAYGTNAAYGCNGCNGGNATHACNTAR\n",
            "DNA 서열 길이: 693\n",
            "\n",
            "IUPAC 코드 개수:\n",
            "N: 106\n",
            "R: 41\n",
            "Y: 69\n",
            "M: 0\n",
            "K: 0\n",
            "S: 0\n",
            "W: 0\n",
            "H: 10\n",
            "B: 0\n",
            "V: 0\n",
            "D: 0\n"
          ]
        }
      ]
    },
    {
      "cell_type": "code",
      "source": [],
      "metadata": {
        "id": "8oT8ckk6vdzm"
      },
      "execution_count": null,
      "outputs": []
    },
    {
      "cell_type": "code",
      "source": [
        "def create_oligos(sequence, oligo_lengths, overlap_lengths):\n",
        "    oligos = []\n",
        "    start = 0\n",
        "    for i in range(len(oligo_lengths)):\n",
        "        end = start + oligo_lengths[i]\n",
        "        oligos.append(sequence[start:end])\n",
        "        if i < len(overlap_lengths):  # 마지막 조각에는 오버랩이 없으므로 조건 추가\n",
        "            start += (oligo_lengths[i] - overlap_lengths[i])\n",
        "    return oligos\n",
        "\n",
        "# IUPAC 축약형 서열 (여기에는 실제 변환된 서열이 들어가야 합니다)\n",
        "sequence = \"ATGAGYAARGGNGARGARCTNTTYACNGGNGTNGTNCCNATHCTNGTNGARCTNGAYGGNGAYGTNAAYGGNCAYAARTTYAGYGTNCGNGGNGARGGNGARGGNGAYGCNACNATHGGNAARCTNACNCTNAARTTYATHTGYACNACNGGNAARCTNCCNGTNCCNTGGCCNACNCTNGTNACNACNCTNACNTAYGGNGTNCARTGYTTYAGYCGNTAYCCNGAYCAYATGAARCGNCAYGAYTTYTTYAARTCNGCNATGCCNGARGGNTAYGTNCARGARCGNACNATHAGYTTYAARGAYGAYGGNAARTAYAARACNCGNGCNGTNGTNAARTTYGARGGNGAYACNCTNGTNAAYCGNATHGARCTNAARGGNACNGAYTTYAARGARGAYGGNAAYATHCTNGGNCAYAARCTNGARTAYAAYTTYAAYAGYCAYAAYGTNTAYATHACNGCNGAYAARCARAARAAYGGNATHAARGCNAAYTTYACNGTNCGNCAYAAYGTNGARGAYGGNAGYGTNCARCTNGCNGAYCAYTAYCARCARAAYACNCCNATHGGNGAYGGNCCNGTNCTNCTNCCNGAYAAYCAYTAYCTNAGYACNCARACNGTNCTNTCNAARGAYCCNAAYGARAARCGNGAYCAYATGGTNCTNCAYGARTAYGTNAAYGCNGCNGGNATHACNTAR\"\n",
        "\n",
        "# 올리고 길이와 오버랩 길이 설정\n",
        "oligo_lengths = [89, 89, 89, 89, 89, 89, 89, 89, 89, 82]  # 마지막 올리고 추가\n",
        "overlap_lengths = [20, 20, 20, 20, 20, 28, 22, 21, 22]\n",
        "\n",
        "# 올리고 생성\n",
        "oligos = create_oligos(sequence, oligo_lengths, overlap_lengths)\n",
        "\n",
        "# 결과 출력 (올리고 서열과 길이 함께 표시)\n",
        "for i, oligo in enumerate(oligos, 1):\n",
        "    print(f\"Oligo {i} (길이: {len(oligo)}): {oligo}\")\n"
      ],
      "metadata": {
        "colab": {
          "base_uri": "https://localhost:8080/",
          "height": 0
        },
        "id": "D-Lo2seRdlW3",
        "outputId": "383f017a-08e9-4bbb-ea31-16af8143ed6a"
      },
      "execution_count": 16,
      "outputs": [
        {
          "output_type": "stream",
          "name": "stdout",
          "text": [
            "Oligo 1 (길이: 89): ATGAGYAARGGNGARGARCTNTTYACNGGNGTNGTNCCNATHCTNGTNGARCTNGAYGGNGAYGTNAAYGGNCAYAARTTYAGYGTNCG\n",
            "Oligo 2 (길이: 89): GGNCAYAARTTYAGYGTNCGNGGNGARGGNGARGGNGAYGCNACNATHGGNAARCTNACNCTNAARTTYATHTGYACNACNGGNAARCT\n",
            "Oligo 3 (길이: 89): ATHTGYACNACNGGNAARCTNCCNGTNCCNTGGCCNACNCTNGTNACNACNCTNACNTAYGGNGTNCARTGYTTYAGYCGNTAYCCNGA\n",
            "Oligo 4 (길이: 89): TGYTTYAGYCGNTAYCCNGAYCAYATGAARCGNCAYGAYTTYTTYAARTCNGCNATGCCNGARGGNTAYGTNCARGARCGNACNATHAG\n",
            "Oligo 5 (길이: 89): GTNCARGARCGNACNATHAGYTTYAARGAYGAYGGNAARTAYAARACNCGNGCNGTNGTNAARTTYGARGGNGAYACNCTNGTNAAYCG\n",
            "Oligo 6 (길이: 89): GGNGAYACNCTNGTNAAYCGNATHGARCTNAARGGNACNGAYTTYAARGARGAYGGNAAYATHCTNGGNCAYAARCTNGARTAYAAYTT\n",
            "Oligo 7 (길이: 89): THCTNGGNCAYAARCTNGARTAYAAYTTYAAYAGYCAYAAYGTNTAYATHACNGCNGAYAARCARAARAAYGGNATHAARGCNAAYTTY\n",
            "Oligo 8 (길이: 89): RAAYGGNATHAARGCNAAYTTYACNGTNCGNCAYAAYGTNGARGAYGGNAGYGTNCARCTNGCNGAYCAYTAYCARCARAAYACNCCNA\n",
            "Oligo 9 (길이: 89): AYTAYCARCARAAYACNCCNATHGGNGAYGGNCCNGTNCTNCTNCCNGAYAAYCAYTAYCTNAGYACNCARACNGTNCTNTCNAARGAY\n",
            "Oligo 10 (길이: 82): NCARACNGTNCTNTCNAARGAYCCNAAYGARAARCGNGAYCAYATGGTNCTNCAYGARTAYGTNAAYGCNGCNGGNATHACN\n"
          ]
        }
      ]
    },
    {
      "cell_type": "code",
      "source": [
        "# IUPAC 상보적 코드 테이블 정의\n",
        "complementary_table = {\n",
        "    \"A\": \"T\", \"T\": \"A\", \"G\": \"C\", \"C\": \"G\",\n",
        "    \"R\": \"Y\", \"Y\": \"R\", \"S\": \"S\", \"W\": \"W\",\n",
        "    \"K\": \"M\", \"M\": \"K\", \"B\": \"V\", \"D\": \"H\",\n",
        "    \"H\": \"D\", \"V\": \"B\", \"N\": \"N\"\n",
        "}\n",
        "\n",
        "# 상보적 서열을 생성하는 함수 (reverse complementary)\n",
        "def get_reverse_complementary_sequence(sequence):\n",
        "    # 상보적 서열을 생성한 후, reverse 시킴\n",
        "    complementary_sequence = \"\".join(complementary_table.get(base, base) for base in sequence)\n",
        "    return complementary_sequence[::-1]\n",
        "\n",
        "# 주어진 oligo 서열들\n",
        "oligos = [\n",
        "    \"ATGAGYAARGGNGARGARCTNTTYACNGGNGTNGTNCCNATHCTNGTNGARCTNGAYGGNGAYGTNAAYGGNCAYAARTTYAGYGTNCG\",\n",
        "    \"GGNCAYAARTTYAGYGTNCGNGGNGARGGNGARGGNGAYGCNACNATHGGNAARCTNACNCTNAARTTYATHTGYACNACNGGNAARCT\",\n",
        "    \"ATHTGYACNACNGGNAARCTNCCNGTNCCNTGGCCNACNCTNGTNACNACNCTNACNTAYGGNGTNCARTGYTTYAGYCGNTAYCCNGA\",\n",
        "    \"TGYTTYAGYCGNTAYCCNGAYCAYATGAARCGNCAYGAYTTYTTYAARTCNGCNATGCCNGARGGNTAYGTNCARGARCGNACNATHAG\",\n",
        "    \"GTNCARGARCGNACNATHAGYTTYAARGAYGAYGGNAARTAYAARACNCGNGCNGTNGTNAARTTYGARGGNGAYACNCTNGTNAAYCG\",\n",
        "    \"GGNGAYACNCTNGTNAAYCGNATHGARCTNAARGGNACNGAYTTYAARGARGAYGGNAAYATHCTNGGNCAYAARCTNGARTAYAAYTT\",\n",
        "    \"THCTNGGNCAYAARCTNGARTAYAAYTTYAAYAGYCAYAAYGTNTAYATHACNGCNGAYAARCARAARAAYGGNATHAARGCNAAYTTY\",\n",
        "    \"RAAYGGNATHAARGCNAAYTTYACNGTNCGNCAYAAYGTNGARGAYGGNAGYGTNCARCTNGCNGAYCAYTAYCARCARAAYACNCCNA\",\n",
        "    \"AYTAYCARCARAAYACNCCNATHGGNGAYGGNCCNGTNCTNCTNCCNGAYAAYCAYTAYCTNAGYACNCARACNGTNCTNTCNAARGAY\",\n",
        "    \"NCARACNGTNCTNTCNAARGAYCCNAAYGARAARCGNGAYCAYATGGTNCTNCAYGARTAYGTNAAYGCNGCNGGNATHACN\"\n",
        "]\n",
        "\n",
        "# Reverse complementary 서열 생성\n",
        "reverse_complementary_oligos = [get_reverse_complementary_sequence(oligo) for oligo in oligos]\n",
        "\n",
        "# 결과 출력\n",
        "for i, rev_comp_oligo in enumerate(reverse_complementary_oligos, 1):\n",
        "    print(f\"Oligo {i} (Reverse Complementary): {rev_comp_oligo}\")\n"
      ],
      "metadata": {
        "colab": {
          "base_uri": "https://localhost:8080/",
          "height": 0
        },
        "id": "eTiy9UgAlrgn",
        "outputId": "5707f1e2-cd68-48aa-fad4-8299b912dc38"
      },
      "execution_count": 21,
      "outputs": [
        {
          "output_type": "stream",
          "name": "stdout",
          "text": [
            "Oligo 1 (Reverse Complementary): CGNACRCTRAAYTTRTGNCCRTTNACRTCNCCRTCNAGYTCNACNAGDATNGGNACNACNCCNGTRAANAGYTCYTCNCCYTTRCTCAT\n",
            "Oligo 2 (Reverse Complementary): AGYTTNCCNGTNGTRCADATRAAYTTNAGNGTNAGYTTNCCDATNGTNGCRTCNCCYTCNCCYTCNCCNCGNACRCTRAAYTTRTGNCC\n",
            "Oligo 3 (Reverse Complementary): TCNGGRTANCGRCTRAARCAYTGNACNCCRTANGTNAGNGTNGTNACNAGNGTNGGCCANGGNACNGGNAGYTTNCCNGTNGTRCADAT\n",
            "Oligo 4 (Reverse Complementary): CTDATNGTNCGYTCYTGNACRTANCCYTCNGGCATNGCNGAYTTRAARAARTCRTGNCGYTTCATRTGRTCNGGRTANCGRCTRAARCA\n",
            "Oligo 5 (Reverse Complementary): CGRTTNACNAGNGTRTCNCCYTCRAAYTTNACNACNGCNCGNGTYTTRTAYTTNCCRTCRTCYTTRAARCTDATNGTNCGYTCYTGNAC\n",
            "Oligo 6 (Reverse Complementary): AARTTRTAYTCNAGYTTRTGNCCNAGDATRTTNCCRTCYTCYTTRAARTCNGTNCCYTTNAGYTCDATNCGRTTNACNAGNGTRTCNCC\n",
            "Oligo 7 (Reverse Complementary): RAARTTNGCYTTDATNCCRTTYTTYTGYTTRTCNGCNGTDATRTANACRTTRTGRCTRTTRAARTTRTAYTCNAGYTTRTGNCCNAGDA\n",
            "Oligo 8 (Reverse Complementary): TNGGNGTRTTYTGYTGRTARTGRTCNGCNAGYTGNACRCTNCCRTCYTCNACRTTRTGNCGNACNGTRAARTTNGCYTTDATNCCRTTY\n",
            "Oligo 9 (Reverse Complementary): RTCYTTNGANAGNACNGTYTGNGTRCTNAGRTARTGRTTRTCNGGNAGNAGNACNGGNCCRTCNCCDATNGGNGTRTTYTGYTGRTART\n",
            "Oligo 10 (Reverse Complementary): NGTDATNCCNGCNGCRTTNACRTAYTCRTGNAGNACCATRTGRTCNCGYTTYTCRTTNGGRTCYTTNGANAGNACNGTYTGN\n"
          ]
        }
      ]
    }
  ]
}