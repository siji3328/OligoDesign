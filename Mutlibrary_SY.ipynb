{
  "nbformat": 4,
  "nbformat_minor": 0,
  "metadata": {
    "colab": {
      "provenance": [],
      "authorship_tag": "ABX9TyNgJ1gwJzRbhd3aDxi3pNi/",
      "include_colab_link": true
    },
    "kernelspec": {
      "name": "python3",
      "display_name": "Python 3"
    },
    "language_info": {
      "name": "python"
    }
  },
  "cells": [
    {
      "cell_type": "markdown",
      "metadata": {
        "id": "view-in-github",
        "colab_type": "text"
      },
      "source": [
        "<a href=\"https://colab.research.google.com/github/siji3328/OligoDesign/blob/master/Mutlibrary_SY.ipynb\" target=\"_parent\"><img src=\"https://colab.research.google.com/assets/colab-badge.svg\" alt=\"Open In Colab\"/></a>"
      ]
    },
    {
      "cell_type": "code",
      "source": [],
      "metadata": {
        "id": "bJG37IjRYu2y"
      },
      "execution_count": null,
      "outputs": []
    },
    {
      "cell_type": "code",
      "source": [
        "# 1단계: IUPAC 축약형 코드로 변환하는 함수 정의\n",
        "def get_iupac_codon(codon, amino_acid):\n",
        "    if amino_acid == \"L\":\n",
        "        return \"CTN\" if codon.startswith(\"CT\") else \"TTR\"\n",
        "    elif amino_acid == \"S\":\n",
        "        return \"TCN\" if codon.startswith(\"TC\") else \"AGY\"\n",
        "    elif amino_acid == \"R\":\n",
        "        return \"CGN\" if codon.startswith(\"CG\") else \"AGR\"\n",
        "    elif amino_acid == \"*\":  # Stop codon 처리\n",
        "        return \"TAR\" if codon.startswith(\"TA\") else \"TGA\"\n",
        "    else:\n",
        "        return iupac_codon_table.get(amino_acid, codon)\n",
        "\n",
        "# IUPAC 축약형 코돈 테이블 설정\n",
        "iupac_codon_table = {\n",
        "    \"F\": \"TTY\",\n",
        "    \"L\": \"CTN\",  # 기본값 (CT로 시작)\n",
        "    \"I\": \"ATH\",\n",
        "    \"M\": \"ATG\",\n",
        "    \"V\": \"GTN\",\n",
        "    \"S\": \"TCN\",  # 기본값 (TC로 시작)\n",
        "    \"P\": \"CCN\",\n",
        "    \"T\": \"ACN\",\n",
        "    \"A\": \"GCN\",\n",
        "    \"Y\": \"TAY\",\n",
        "    \"H\": \"CAY\",\n",
        "    \"Q\": \"CAR\",\n",
        "    \"N\": \"AAY\",\n",
        "    \"K\": \"AAR\",\n",
        "    \"D\": \"GAY\",\n",
        "    \"E\": \"GAR\",\n",
        "    \"C\": \"TGY\",\n",
        "    \"W\": \"TGG\",\n",
        "    \"R\": \"CGN\",  # 기본값 (CG로 시작)\n",
        "    \"G\": \"GGN\",\n",
        "    \"*\": \"TAR\",  # 기본 Stop codon 설정\n",
        "}\n",
        "\n",
        "# 주어진 DNA 서열과 아미노산 서열\n",
        "dna_sequence = (\n",
        "    \"ATGAGCAAAGGTGAAGAACTGTTTACCGGCGTTGTGCCGATTCTGGTGGAACTGGATGGCGATGTGAACGGTCACAAATTCAGCGTGCGTGGTGAAGGTGAAGGCGATGCCACGATTGGCAAACTGACGCTGAAATTTATCTGCACCACCGGCAAACTGCCGGTGCCGTGGCCGACGCTGGTGACCACCCTGACCTATGGCGTTCAGTGTTTTAGTCGCTATCCGGATCACATGAAACGTCACGATTTCTTTAAATCTGCAATGCCGGAAGGCTATGTGCAGGAACGTACGATTAGCTTTAAAGATGATGGCAAATATAAAACGCGCGCCGTTGTGAAATTTGAAGGCGATACCCTGGTGAACCGCATTGAACTGAAAGGCACGGATTTTAAAGAAGATGGCAATATCCTGGGCCATAAACTGGAATACAACTTTAATAGCCATAATGTTTATATTACGGCGGATAAACAGAAAAATGGCATCAAAGCGAATTTTACCGTTCGCCATAACGTTGAAGATGGCAGTGTGCAGCTGGCAGATCATTATCAGCAGAATACCCCGATTGGTGATGGTCCGGTGCTGCTGCCGGATAATCATTATCTGAGCACGCAGACCGTTCTGTCTAAAGATCCGAACGAAAAACGGGACCACATGGTTCTGCACGAATATGTGAATGCGGCAGGTATTACGTAA\"\n",
        ")\n",
        "amino_acid_sequence = (\n",
        "    \"MSKGEELFTGVVPILVELDGDVNGHKFSVRGEGEGDATIGKLTLKFICTTGKLPVPWPTLVTTLTYGVQCFSRYPDHMKRHDFFKSAMPEGYVQERTISFKDDGKYKTRAVVKFEGDTLVNRIELKGTDFKEDGNILGHKLEYNFNSHNVYITADKQKNGIKANFTVRHNVEDGSVQLADHYQQNTPIGDGPVLLPDNHYLSTQTVLSKDPNEKRDHMVLHEYVNAAGIT*\"\n",
        ")\n",
        "\n",
        "# 2단계: DNA 서열을 기반으로 IUPAC 축약형 코돈 선택\n",
        "iupac_sequence = \"\"\n",
        "for i in range(0, len(dna_sequence), 3):\n",
        "    dna_codon = dna_sequence[i:i+3]\n",
        "    amino_acid = amino_acid_sequence[i//3]\n",
        "    iupac_codon = get_iupac_codon(dna_codon, amino_acid)\n",
        "    iupac_sequence += iupac_codon\n",
        "\n",
        "# 3단계: 결과 출력 (한 줄로 이어서 출력)\n",
        "print(\"IUPAC 축약형 서열:\", iupac_sequence)\n",
        "print(\"DNA 서열 길이:\", len(dna_sequence))\n"
      ],
      "metadata": {
        "colab": {
          "base_uri": "https://localhost:8080/"
        },
        "id": "W_uLlLXab46r",
        "outputId": "618f9ddd-750e-423c-a38b-83912a68df39"
      },
      "execution_count": 10,
      "outputs": [
        {
          "output_type": "stream",
          "name": "stdout",
          "text": [
            "IUPAC 축약형 서열: ATGAGYAARGGNGARGARCTNTTYACNGGNGTNGTNCCNATHCTNGTNGARCTNGAYGGNGAYGTNAAYGGNCAYAARTTYAGYGTNCGNGGNGARGGNGARGGNGAYGCNACNATHGGNAARCTNACNCTNAARTTYATHTGYACNACNGGNAARCTNCCNGTNCCNTGGCCNACNCTNGTNACNACNCTNACNTAYGGNGTNCARTGYTTYAGYCGNTAYCCNGAYCAYATGAARCGNCAYGAYTTYTTYAARTCNGCNATGCCNGARGGNTAYGTNCARGARCGNACNATHAGYTTYAARGAYGAYGGNAARTAYAARACNCGNGCNGTNGTNAARTTYGARGGNGAYACNCTNGTNAAYCGNATHGARCTNAARGGNACNGAYTTYAARGARGAYGGNAAYATHCTNGGNCAYAARCTNGARTAYAAYTTYAAYAGYCAYAAYGTNTAYATHACNGCNGAYAARCARAARAAYGGNATHAARGCNAAYTTYACNGTNCGNCAYAAYGTNGARGAYGGNAGYGTNCARCTNGCNGAYCAYTAYCARCARAAYACNCCNATHGGNGAYGGNCCNGTNCTNCTNCCNGAYAAYCAYTAYCTNAGYACNCARACNGTNCTNTCNAARGAYCCNAAYGARAARCGNGAYCAYATGGTNCTNCAYGARTAYGTNAAYGCNGCNGGNATHACNTAR\n",
            "DNA 서열 길이: 693\n"
          ]
        }
      ]
    }
  ]
}